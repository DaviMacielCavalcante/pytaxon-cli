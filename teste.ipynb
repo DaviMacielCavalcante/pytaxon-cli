{
 "cells": [
  {
   "cell_type": "code",
   "execution_count": 1,
   "metadata": {},
   "outputs": [],
   "source": [
    "import os\n",
    "os.environ['R_HOME'] = 'C:\\Program Files\\R\\R-4.3.0'"
   ]
  },
  {
   "cell_type": "code",
   "execution_count": 2,
   "metadata": {},
   "outputs": [],
   "source": [
    "import rpy2\n",
    "from rpy2 import robjects\n",
    "import rpy2.robjects.packages as rpackages"
   ]
  },
  {
   "cell_type": "code",
   "execution_count": 3,
   "metadata": {},
   "outputs": [
    {
     "data": {
      "text/plain": [
       "'3.5.11'"
      ]
     },
     "execution_count": 3,
     "metadata": {},
     "output_type": "execute_result"
    }
   ],
   "source": [
    "rpy2.__version__"
   ]
  },
  {
   "cell_type": "code",
   "execution_count": 4,
   "metadata": {},
   "outputs": [
    {
     "data": {
      "text/html": [
       "\n",
       "        <span>FloatVector with 1 elements.</span>\n",
       "        <table>\n",
       "        <tbody>\n",
       "          <tr>\n",
       "          \n",
       "            <td>\n",
       "            3.141593\n",
       "            </td>\n",
       "          \n",
       "          </tr>\n",
       "        </tbody>\n",
       "        </table>\n",
       "        "
      ],
      "text/plain": [
       "<rpy2.robjects.vectors.FloatVector object at 0x000002153ABA0390> [14]\n",
       "R classes: ('numeric',)\n",
       "[3.141593]"
      ]
     },
     "execution_count": 4,
     "metadata": {},
     "output_type": "execute_result"
    }
   ],
   "source": [
    "pi = robjects.r['pi']\n",
    "pi"
   ]
  },
  {
   "cell_type": "code",
   "execution_count": 5,
   "metadata": {},
   "outputs": [
    {
     "name": "stdout",
     "output_type": "stream",
     "text": [
      "[1] 25\n",
      "[1] 30\n"
     ]
    },
    {
     "data": {
      "text/html": [
       "\n",
       "        <span>FloatVector with 1 elements.</span>\n",
       "        <table>\n",
       "        <tbody>\n",
       "          <tr>\n",
       "          \n",
       "            <td>\n",
       "            30.000000\n",
       "            </td>\n",
       "          \n",
       "          </tr>\n",
       "        </tbody>\n",
       "        </table>\n",
       "        "
      ],
      "text/plain": [
       "<rpy2.robjects.vectors.FloatVector object at 0x000002153E02BD90> [14]\n",
       "R classes: ('numeric',)\n",
       "[30.000000]"
      ]
     },
     "execution_count": 5,
     "metadata": {},
     "output_type": "execute_result"
    }
   ],
   "source": [
    "a, b = 10, 15\n",
    "\n",
    "robjects.r(f'''\n",
    "    add_nums <- function(x, y) {{\n",
    "        return(x + y)\n",
    "    }}\n",
    "    \n",
    "    print(add_nums(x = {a}, y = {b}))\n",
    "    print(add_nums(x = 10, y = 20))\n",
    "''')"
   ]
  },
  {
   "cell_type": "code",
   "execution_count": 6,
   "metadata": {},
   "outputs": [
    {
     "name": "stderr",
     "output_type": "stream",
     "text": [
      "R[write to console]: Installing package into 'C:/Users/Home/AppData/Local/R/win-library/4.3'\n",
      "(as 'lib' is unspecified)\n",
      "\n",
      "R[write to console]: trying URL 'https://cloud.r-project.org/bin/windows/contrib/4.3/bdc_1.1.4.zip'\n",
      "\n",
      "R[write to console]: Content type 'application/zip'\n",
      "R[write to console]:  length 2555577 bytes (2.4 MB)\n",
      "\n",
      "R[write to console]: downloaded 2.4 MB\n",
      "\n",
      "\n"
     ]
    },
    {
     "name": "stdout",
     "output_type": "stream",
     "text": [
      "package 'bdc' successfully unpacked and MD5 sums checked\n",
      "\n",
      "The downloaded binary packages are in\n",
      "\tC:\\Users\\Home\\AppData\\Local\\Temp\\RtmpoFyNxp\\downloaded_packages\n"
     ]
    },
    {
     "data": {
      "text/plain": [
       "<rpy2.rinterface_lib.sexp.NULLType object at 0x000002153AB6CE90> [0]"
      ]
     },
     "execution_count": 6,
     "metadata": {},
     "output_type": "execute_result"
    }
   ],
   "source": [
    "utils = rpackages.importr('utils')\n",
    "utils.chooseCRANmirror(ind=1)\n",
    "\n",
    "utils.install_packages('bdc')"
   ]
  },
  {
   "cell_type": "code",
   "execution_count": 10,
   "metadata": {},
   "outputs": [
    {
     "data": {
      "text/html": [
       "\n",
       "        <span>StrVector with 9 elements.</span>\n",
       "        <table>\n",
       "        <tbody>\n",
       "          <tr>\n",
       "          \n",
       "            <td>\n",
       "            'bdc'\n",
       "            </td>\n",
       "          \n",
       "            <td>\n",
       "            'tools'\n",
       "            </td>\n",
       "          \n",
       "            <td>\n",
       "            'stats'\n",
       "            </td>\n",
       "          \n",
       "            <td>\n",
       "            ...\n",
       "            </td>\n",
       "          \n",
       "            <td>\n",
       "            'datasets'\n",
       "            </td>\n",
       "          \n",
       "            <td>\n",
       "            'methods'\n",
       "            </td>\n",
       "          \n",
       "            <td>\n",
       "            'base'\n",
       "            </td>\n",
       "          \n",
       "          </tr>\n",
       "        </tbody>\n",
       "        </table>\n",
       "        "
      ],
      "text/plain": [
       "<rpy2.robjects.vectors.StrVector object at 0x000002153DFF9090> [16]\n",
       "R classes: ('character',)\n",
       "['bdc', 'tools', 'stats', 'graphics', ..., 'utils', 'datasets', 'methods', 'base']"
      ]
     },
     "execution_count": 10,
     "metadata": {},
     "output_type": "execute_result"
    }
   ],
   "source": [
    "robjects.r(f'''\n",
    "    library('bdc')\n",
    "''')"
   ]
  },
  {
   "cell_type": "code",
   "execution_count": 17,
   "metadata": {},
   "outputs": [
    {
     "name": "stderr",
     "output_type": "stream",
     "text": [
      "R[write to console]: \n",
      "Querying using gbif database version 22.12\n",
      "\n",
      "\n",
      "R[write to console]: \n",
      " A total of 0 NA was/were found in sci_name.\n",
      "\n",
      "R[write to console]: \n",
      " 1 names queried in 0.1 minutes\n",
      "\n",
      "\n"
     ]
    },
    {
     "data": {
      "text/html": [
       "\n",
       "        <span>R/rpy2 DataFrame (1 x 21)</span>\n",
       "        <table>\n",
       "          <thead>\n",
       "            <tr>\n",
       "              \n",
       "              <th>original_search</th>\n",
       "              \n",
       "              <th>suggested_name</th>\n",
       "              \n",
       "              <th>distance</th>\n",
       "              \n",
       "              <th>...</th>\n",
       "              \n",
       "              <th>originalNameUsageID</th>\n",
       "              \n",
       "              <th>scientificNameAuthorship</th>\n",
       "              \n",
       "              <th>vernacularName</th>\n",
       "              \n",
       "            </tr>\n",
       "          </thead>\n",
       "          <tbody>\n",
       "          \n",
       "          <tr>\n",
       "            \n",
       "            <td>\n",
       "              'Homo sapiens'\n",
       "            </td>\n",
       "            \n",
       "            <td>\n",
       "              NA\n",
       "            </td>\n",
       "            \n",
       "            <td>\n",
       "              NA\n",
       "            </td>\n",
       "            \n",
       "            <td>\n",
       "              ...\n",
       "            </td>\n",
       "            \n",
       "            <td>\n",
       "              '9725974'\n",
       "            </td>\n",
       "            \n",
       "            <td>\n",
       "              'Linnaeus, 1758'\n",
       "            </td>\n",
       "            \n",
       "            <td>\n",
       "              'Mensch'\n",
       "            </td>\n",
       "            \n",
       "          </tr>\n",
       "          \n",
       "          </tbody>\n",
       "        </table>\n",
       "    "
      ],
      "text/plain": [
       "<rpy2.robjects.vectors.DataFrame object at 0x0000021545F9BDD0> [19]\n",
       "R classes: ('tbl_df', 'tbl', 'data.frame')\n",
       "[StrSexpVe..., BoolSexpV..., BoolSexpV..., StrSexpVe..., ..., StrSexpVe..., StrSexpVe..., StrSexpVe..., StrSexpVe...]\n",
       "  original_search: <class 'rpy2.robjects.vectors.StrVector'>\n",
       "  <rpy2.robjects.vectors.StrVector object at 0x000002153E057190> [16]\n",
       "R classes: ('character',)\n",
       "['Homo sapiens']\n",
       "  suggested_name: <class 'rpy2.robjects.vectors.BoolVector'>\n",
       "  <rpy2.robjects.vectors.BoolVector object at 0x000002153E02B490> [10]\n",
       "R classes: ('logical',)\n",
       "[NA]\n",
       "  distance: <class 'rpy2.robjects.vectors.BoolVector'>\n",
       "  <rpy2.robjects.vectors.BoolVector object at 0x0000021545F5BB10> [10]\n",
       "R classes: ('logical',)\n",
       "[NA]\n",
       "  notes: <class 'rpy2.robjects.vectors.StrVector'>\n",
       "  <rpy2.robjects.vectors.StrVector object at 0x0000021545F59450> [16]\n",
       "R classes: ('character',)\n",
       "['accepted']\n",
       "...\n",
       "  scientificName: <class 'rpy2.robjects.vectors.StrVector'>\n",
       "  <rpy2.robjects.vectors.StrVector object at 0x0000021545F59150> [16]\n",
       "R classes: ('character',)\n",
       "['2436435']\n",
       "  taxonRank: <class 'rpy2.robjects.vectors.StrVector'>\n",
       "  <rpy2.robjects.vectors.StrVector object at 0x0000021545F5BA50> [16]\n",
       "R classes: ('character',)\n",
       "['9725974']\n",
       "  taxonomicStatus: <class 'rpy2.robjects.vectors.StrVector'>\n",
       "  <rpy2.robjects.vectors.StrVector object at 0x0000021545F2DF50> [16]\n",
       "R classes: ('character',)\n",
       "['Linnaeus, 1758']\n",
       "  acceptedNameUsageID: <class 'rpy2.robjects.vectors.StrVector'>\n",
       "  <rpy2.robjects.vectors.StrVector object at 0x0000021545F76610> [16]\n",
       "R classes: ('character',)\n",
       "['Mensch']"
      ]
     },
     "execution_count": 17,
     "metadata": {},
     "output_type": "execute_result"
    }
   ],
   "source": [
    "try:\n",
    "    robjects.r(f'''\n",
    "        bdc_query_names_taxadb('Homo sapiens')\n",
    "    ''')\n",
    "except:\n",
    "    print('Não reconhecido')"
   ]
  },
  {
   "cell_type": "code",
   "execution_count": 20,
   "metadata": {},
   "outputs": [
    {
     "name": "stderr",
     "output_type": "stream",
     "text": [
      "R[write to console]: \n",
      ">> Family names prepended to scientific names were flagged and removed from 0 records.\n",
      "\n",
      "R[write to console]: >> Terms denoting taxonomic uncertainty were flagged and removed from 0 records.\n",
      "\n",
      "R[write to console]: >> Other issues, capitalizing the first letter of the generic name, replacing empty names by NA, and removing extra spaces, were flagged and corrected or removed from 0 records.\n",
      "\n",
      "R[write to console]: >> Infraspecific terms were flagged and removed from 0 records.\n",
      "\n",
      "\n"
     ]
    },
    {
     "data": {
      "text/html": [
       "\n",
       "        <span>R/rpy2 DataFrame (1 x 5)</span>\n",
       "        <table>\n",
       "          <thead>\n",
       "            <tr>\n",
       "              \n",
       "              <th>scientificName</th>\n",
       "              \n",
       "              <th>.uncer_terms</th>\n",
       "              \n",
       "              <th>.infraesp_names</th>\n",
       "              \n",
       "              <th>names_clean</th>\n",
       "              \n",
       "              <th>quality</th>\n",
       "              \n",
       "            </tr>\n",
       "          </thead>\n",
       "          <tbody>\n",
       "          \n",
       "          <tr>\n",
       "            \n",
       "            <td>\n",
       "              ...\n",
       "            </td>\n",
       "            \n",
       "            <td>\n",
       "              ...\n",
       "            </td>\n",
       "            \n",
       "            <td>\n",
       "              ...\n",
       "            </td>\n",
       "            \n",
       "            <td>\n",
       "              ...\n",
       "            </td>\n",
       "            \n",
       "            <td>\n",
       "              ...\n",
       "            </td>\n",
       "            \n",
       "          </tr>\n",
       "          \n",
       "          </tbody>\n",
       "        </table>\n",
       "    "
      ],
      "text/plain": [
       "<rpy2.robjects.vectors.DataFrame object at 0x0000021545F0CBD0> [19]\n",
       "R classes: ('tbl_df', 'tbl', 'data.frame')\n",
       "[StrSexp..., BoolSex..., BoolSex..., StrSexp..., FloatSe...]\n",
       "  scientificName: <class 'rpy2.rinterface_lib.sexp.StrSexpVector'>\n",
       "  <rpy2.rinterface_lib.sexp.StrSexpVector object at 0x0000021546003A10> [16]\n",
       "  .uncer_terms: <class 'rpy2.rinterface.BoolSexpVector'>\n",
       "  <rpy2.rinterface.BoolSexpVector object at 0x0000021546002850> [10]\n",
       "  .infraesp_names: <class 'rpy2.rinterface.BoolSexpVector'>\n",
       "  <rpy2.rinterface.BoolSexpVector object at 0x0000021546000110> [10]\n",
       "  names_clean: <class 'rpy2.rinterface_lib.sexp.StrSexpVector'>\n",
       "  <rpy2.rinterface_lib.sexp.StrSexpVector object at 0x00000215460037D0> [16]\n",
       "  quality: <class 'rpy2.rinterface.FloatSexpVector'>\n",
       "  <rpy2.rinterface.FloatSexpVector object at 0x0000021546003D50> [14]"
      ]
     },
     "execution_count": 20,
     "metadata": {},
     "output_type": "execute_result"
    }
   ],
   "source": [
    "robjects.r(f'''\n",
    "    bdc_clean_names('Homo sapienns')\n",
    "''')"
   ]
  },
  {
   "cell_type": "code",
   "execution_count": null,
   "metadata": {},
   "outputs": [],
   "source": []
  }
 ],
 "metadata": {
  "kernelspec": {
   "display_name": "venv",
   "language": "python",
   "name": "python3"
  },
  "language_info": {
   "codemirror_mode": {
    "name": "ipython",
    "version": 3
   },
   "file_extension": ".py",
   "mimetype": "text/x-python",
   "name": "python",
   "nbconvert_exporter": "python",
   "pygments_lexer": "ipython3",
   "version": "3.11.1"
  },
  "orig_nbformat": 4
 },
 "nbformat": 4,
 "nbformat_minor": 2
}
